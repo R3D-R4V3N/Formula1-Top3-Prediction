{
 "cells": [
  {
   "cell_type": "markdown",
   "metadata": {},
   "source": [
    "# Feature Importance Analysis\n",
    "This notebook explores multiple methods to inspect feature importance for the CatBoost model."
   ]
  },
  {
   "cell_type": "code",
   "execution_count": null,
   "metadata": {},
   "outputs": [],
   "source": [
    "import pandas as pd\n",
    "import numpy as np\n",
    "import shap\n",
    "import matplotlib.pyplot as plt\n",
    "from catboost import CatBoostClassifier, Pool\n",
    "from sklearn.inspection import permutation_importance\n",
    "\n",
    "from model_catboost_final import MODEL_PARAMS"
   ]
  },
  {
   "cell_type": "code",
   "execution_count": null,
   "metadata": {},
   "outputs": [],
   "source": [
    "# Load dataset\n",
    "csv_path = 'f1_data_2022_to_present.csv'\n",
    "df = pd.read_csv(csv_path)\n",
    "\n",
    "df['top3_flag'] = (df['finishing_position'] <= 3).astype(int)\n",
    "X = df.drop(columns=['finishing_position', 'top3_flag'])\n",
    "y = df['top3_flag']\n",
    "cat_cols = ['circuit_id', 'driver_id', 'constructor_id']\n",
    "cat_idx = [X.columns.get_loc(c) for c in cat_cols]"
   ]
  },
  {
   "cell_type": "code",
   "execution_count": null,
   "metadata": {},
   "outputs": [],
   "source": [
    "# Train CatBoost model\n",
    "def train_model(X, y, cat_idx):\n",
    "    params = MODEL_PARAMS.copy()\n",
    "    params['class_weights'] = [1.0, (y == 0).sum() / max((y == 1).sum(), 1)]\n",
    "    model = CatBoostClassifier(**params)\n",
    "    model.fit(Pool(X, y, cat_features=cat_idx))\n",
    "    return model\n",
    "\n",
    "model = train_model(X, y, cat_idx)"
   ]
  },
  {
   "cell_type": "code",
   "execution_count": null,
   "metadata": {},
   "outputs": [],
   "source": [
    "# SHAP feature importance\n",
    "explainer = shap.TreeExplainer(model)\n",
    "shap_values = explainer.shap_values(Pool(X, cat_features=cat_idx))\n",
    "\n",
    "shap.summary_plot(shap_values, X)\n",
    "plt.show()\n",
    "\n",
    "shap.plots.bar(shap_values)\n",
    "plt.show()"
   ]
  },
  {
   "cell_type": "code",
   "execution_count": null,
   "metadata": {},
   "outputs": [],
   "source": [
    "# CatBoost built-in feature importance\n",
    "importance_pred = model.get_feature_importance(Pool(X, y, cat_features=cat_idx), type='PredictionValuesChange')\n",
    "importance_loss = model.get_feature_importance(Pool(X, y, cat_features=cat_idx), type='LossFunctionChange')\n",
    "\n",
    "feat_importances = pd.DataFrame({\n",
    "    'feature': X.columns,\n",
    "    'PredictionValuesChange': importance_pred,\n",
    "    'LossFunctionChange': importance_loss,\n",
    "}).sort_values('PredictionValuesChange', ascending=False)\n",
    "feat_importances.head(10)"
   ]
  },
  {
   "cell_type": "code",
   "execution_count": null,
   "metadata": {},
   "outputs": [],
   "source": [
    "# Permutation importance using scikit-learn\n",
    "perm = permutation_importance(model, X, y, n_repeats=5, random_state=42, n_jobs=-1)\n",
    "perm_importance = pd.DataFrame({\n",
    "    'feature': X.columns,\n",
    "    'importance': perm.importances_mean,\n",
    "}).sort_values('importance', ascending=False)\n",
    "perm_importance.head(10)"
   ]
  }
 ],
 "metadata": {
  "kernelspec": {
   "display_name": "Python 3",
   "language": "python",
   "name": "python3"
  },
  "language_info": {
   "name": "python",
   "pygments_lexer": "ipython3"
  }
 },
 "nbformat": 4,
 "nbformat_minor": 5
}
