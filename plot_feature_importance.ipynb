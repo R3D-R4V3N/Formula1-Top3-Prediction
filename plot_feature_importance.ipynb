{
  "cells": [
    {
      "cell_type": "code",
      "execution_count": null,
      "metadata": {},
      "outputs": [],
      "source": [
        "import os\n",
        "import pandas as pd\n",
        "import numpy as np\n",
        "import matplotlib.pyplot as plt\n",
        "from catboost import CatBoostClassifier, Pool\n",
        "\n",
        "# Create output directory\n",
        "output_dir = \"feature_imporance\"\n",
        "os.makedirs(output_dir, exist_ok=True)\n",
        "\n",
        "# 1. Load the dataset\n",
        "csv_path = \"f1_data_2022_to_present.csv\"\n",
        "df = pd.read_csv(csv_path)\n",
        "\n",
        "# 2. Create target\n",
        "df[\"top3_flag\"] = (df[\"finishing_position\"] <= 3).astype(int)\n",
        "\n",
        "# 3. Prepare features and target\n",
        "X = df.drop(columns=[\"finishing_position\", \"top3_flag\"])\n",
        "y = df[\"top3_flag\"].values\n",
        "\n",
        "# Identify categorical features\n",
        "cat_features = [\"circuit_id\", \"driver_id\", \"constructor_id\"]\n",
        "cat_feature_indices = [X.columns.get_loc(col) for col in cat_features]\n",
        "\n",
        "# 4. Initialize CatBoost with tuned params\n",
        "from model_catboost_final import MODEL_PARAMS\n",
        "model = CatBoostClassifier(**MODEL_PARAMS)\n",
        "model.fit(X, y, cat_features=cat_feature_indices)\n",
        "\n",
        "# 5. Define importance types to plot\n",
        "importance_types = [\"FeatureImportance\", \"PredictionValuesChange\", \"LossFunctionChange\", \"ShapValues\", \"Interaction\"]\n",
        "\n",
        "# 6. Plot each importance type\n",
        "for imp_type in importance_types:\n",
        "    if imp_type == \"ShapValues\":\n",
        "        shap_vals = model.get_feature_importance(type=imp_type, data=Pool(X, label=y), thread_count=-1)\n",
        "        importances = np.mean(np.abs(shap_vals), axis=0)\n",
        "    else:\n",
        "        importances = model.get_feature_importance(type=imp_type)\n",
        "\n",
        "    feat_names = X.columns.tolist()\n",
        "    df_imp = pd.DataFrame({'feature': feat_names, 'importance': importances}).sort_values('importance', ascending=True)\n",
        "    \n",
        "    plt.figure(figsize=(10, 8))\n",
        "    plt.barh(df_imp['feature'], df_imp['importance'])\n",
        "    plt.xlabel(f\"Importance ({imp_type})\")\n",
        "    plt.title(f\"CatBoost {imp_type} Feature Importances\")\n",
        "    plt.tight_layout()\n",
        "\n",
        "    out_file = os.path.join(output_dir, f\"feature_importances_{imp_type}.png\")\n",
        "    plt.savefig(out_file, dpi=300)\n",
        "    plt.close()\n",
        "    print(f\"Saved {out_file}\")\n"
      ]
    }
  ],
  "metadata": {
    "kernelspec": {
      "display_name": "Python 3",
      "language": "python",
      "name": "python3"
    },
    "language_info": {
      "name": "python"
    }
  },
  "nbformat": 4,
  "nbformat_minor": 4
}
